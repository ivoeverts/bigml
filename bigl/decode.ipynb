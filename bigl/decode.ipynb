{
 "cells": [
  {
   "cell_type": "code",
   "execution_count": 16,
   "metadata": {},
   "outputs": [],
   "source": [
    "import requests, zlib, io\n",
    "import numpy as np\n",
    "import pandas as pd\n",
    "import multiprocessing\n",
    "from urllib.parse import quote\n",
    "\n",
    "from sklearn.preprocessing import OneHotEncoder\n",
    "from sklearn.model_selection import StratifiedShuffleSplit\n",
    "from sklearn.neural_network import MLPClassifier\n",
    "from sklearn.svm import SVC\n",
    "from sklearn.ensemble import RandomForestClassifier\n",
    "from sklearn.metrics import accuracy_score, confusion_matrix\n",
    "from sklearn.multiclass import OneVsRestClassifier\n",
    "\n",
    "import matplotlib.pyplot as plt\n",
    "%matplotlib inline"
   ]
  },
  {
   "cell_type": "code",
   "execution_count": 39,
   "metadata": {},
   "outputs": [],
   "source": [
    "url = 'http://localhost:8080'\n",
    "data_type = ('sentences', 'paragraphs')[1]\n",
    "model = 'en_w2v'"
   ]
  },
  {
   "cell_type": "markdown",
   "metadata": {},
   "source": [
    "### Create dataset"
   ]
  },
  {
   "cell_type": "code",
   "execution_count": 40,
   "metadata": {},
   "outputs": [],
   "source": [
    "def uncompress_numpy_array(bytestring):\n",
    "    return np.load(io.BytesIO(zlib.decompress(bytestring)))\n",
    "\n",
    "def encode(idx_text_tuple):\n",
    "    idx, text = idx_text_tuple\n",
    "    api_result = requests.get(f'{url}/{quote(text)}/{model}')\n",
    "    return {'index': idx, 'feats': uncompress_numpy_array(api_result.content)}"
   ]
  },
  {
   "cell_type": "code",
   "execution_count": 41,
   "metadata": {},
   "outputs": [],
   "source": [
    "# read data and extract features\n",
    "data = (\n",
    "    pd.read_pickle(data_type)\n",
    "    .assign(undude = lambda df: df['character']!='DUDE')\n",
    "    .assign(num_words = lambda df: df['text'].apply(lambda s: len(s.split())))\n",
    ")\n",
    "\n",
    "# use multiprocessing for efficiency\n",
    "idx_text_tuples = [(idx, text) for idx, text in zip(data.index, data['text'])]\n",
    "# with multiprocessing.Pool(4) as enc_pool:\n",
    "#     encs = enc_pool.map(encode, idx_text_tuples)\n",
    "encs = [encode(idx_text_tuple) for idx_text_tuple in idx_text_tuples]\n",
    "\n",
    "# join data together\n",
    "data = data.join(pd.DataFrame(encs).set_index('index'))"
   ]
  },
  {
   "cell_type": "code",
   "execution_count": 43,
   "metadata": {},
   "outputs": [
    {
     "name": "stdout",
     "output_type": "stream",
     "text": [
      "(912, 5)\n"
     ]
    },
    {
     "data": {
      "text/html": [
       "<div>\n",
       "<style scoped>\n",
       "    .dataframe tbody tr th:only-of-type {\n",
       "        vertical-align: middle;\n",
       "    }\n",
       "\n",
       "    .dataframe tbody tr th {\n",
       "        vertical-align: top;\n",
       "    }\n",
       "\n",
       "    .dataframe thead th {\n",
       "        text-align: right;\n",
       "    }\n",
       "</style>\n",
       "<table border=\"1\" class=\"dataframe\">\n",
       "  <thead>\n",
       "    <tr style=\"text-align: right;\">\n",
       "      <th></th>\n",
       "      <th>character</th>\n",
       "      <th>text</th>\n",
       "      <th>undude</th>\n",
       "      <th>num_words</th>\n",
       "      <th>feats</th>\n",
       "    </tr>\n",
       "  </thead>\n",
       "  <tbody>\n",
       "    <tr>\n",
       "      <th>861</th>\n",
       "      <td>DIETER</td>\n",
       "      <td>I haff lingenberry pancakes.</td>\n",
       "      <td>True</td>\n",
       "      <td>4</td>\n",
       "      <td>[0.14389579, 0.1677846, -0.05914401, -0.267779...</td>\n",
       "    </tr>\n",
       "    <tr>\n",
       "      <th>563</th>\n",
       "      <td>WALTER</td>\n",
       "      <td>Hello, Pilar?  My name is Walter Sobchak, we s...</td>\n",
       "      <td>True</td>\n",
       "      <td>18</td>\n",
       "      <td>[-0.03044079, 0.23585914, -0.1451014, -0.01326...</td>\n",
       "    </tr>\n",
       "    <tr>\n",
       "      <th>801</th>\n",
       "      <td>MAUDE</td>\n",
       "      <td>Sex.  The physical act of love. Coitus.  Do yo...</td>\n",
       "      <td>True</td>\n",
       "      <td>11</td>\n",
       "      <td>[-0.026457936, 0.13985118, -0.14896223, -0.148...</td>\n",
       "    </tr>\n",
       "  </tbody>\n",
       "</table>\n",
       "</div>"
      ],
      "text/plain": [
       "    character                                               text  undude  \\\n",
       "861    DIETER                       I haff lingenberry pancakes.    True   \n",
       "563    WALTER  Hello, Pilar?  My name is Walter Sobchak, we s...    True   \n",
       "801     MAUDE  Sex.  The physical act of love. Coitus.  Do yo...    True   \n",
       "\n",
       "     num_words                                              feats  \n",
       "861          4  [0.14389579, 0.1677846, -0.05914401, -0.267779...  \n",
       "563         18  [-0.03044079, 0.23585914, -0.1451014, -0.01326...  \n",
       "801         11  [-0.026457936, 0.13985118, -0.14896223, -0.148...  "
      ]
     },
     "execution_count": 43,
     "metadata": {},
     "output_type": "execute_result"
    }
   ],
   "source": [
    "print(data.shape)\n",
    "data.sample(3)"
   ]
  },
  {
   "cell_type": "markdown",
   "metadata": {},
   "source": [
    "### Decode: classify names"
   ]
  },
  {
   "cell_type": "code",
   "execution_count": 45,
   "metadata": {},
   "outputs": [],
   "source": [
    "# concatenate features\n",
    "X = np.zeros((len(data), len(data['feats'].iloc[0])))\n",
    "for i in range(len(X)):\n",
    "    X[i,:] = data['feats'].iloc[i]\n",
    "\n",
    "# use one-hot-enc as labels\n",
    "one_hot = OneHotEncoder().fit(data['character'].values.reshape(-1,+1))\n",
    "Y = one_hot.transform(data['character'].values.reshape(-1,+1)).todense()"
   ]
  },
  {
   "cell_type": "code",
   "execution_count": 46,
   "metadata": {},
   "outputs": [
    {
     "name": "stdout",
     "output_type": "stream",
     "text": [
      "0.4673913043478261\n",
      "0.3695652173913043\n",
      "0.391304347826087\n",
      "0.4891304347826087\n",
      "0.41304347826086957\n"
     ]
    }
   ],
   "source": [
    "model = MLPClassifier(hidden_layer_sizes=(50, 30), max_iter=1000)\n",
    "accuracies = []\n",
    "confmat = None\n",
    "\n",
    "splits = StratifiedShuffleSplit(n_splits=5)\n",
    "for train_idx, test_idx in splits.split(X, Y):\n",
    "\n",
    "    model.fit(X[train_idx], Y[train_idx])\n",
    "    P = model.predict(X[test_idx])\n",
    "    T = Y[test_idx]\n",
    "    accuracies.append(accuracy_score(T, P))\n",
    "    print(accuracies[-1])\n",
    "\n",
    "    cm = confusion_matrix(T.argmax(axis=1), P.argmax(axis=1))\n",
    "    confmat = cm if confmat is None else cm+confmat\n"
   ]
  },
  {
   "cell_type": "code",
   "execution_count": 25,
   "metadata": {},
   "outputs": [
    {
     "data": {
      "image/png": "[encoded data removed]",
      "text/plain": [
       "<Figure size 432x432 with 1 Axes>"
      ]
     },
     "metadata": {
      "needs_background": "light"
     },
     "output_type": "display_data"
    }
   ],
   "source": [
    "plt.rcParams['figure.figsize'] = 6,6\n",
    "plt.imshow(confmat);\n",
    "plt.yticks(range(len(one_hot.categories_[0])), one_hot.categories_[0]);"
   ]
  },
  {
   "cell_type": "code",
   "execution_count": 47,
   "metadata": {},
   "outputs": [
    {
     "data": {
      "text/plain": [
       "DUDE            0.445175\n",
       "WALTER          0.282895\n",
       "MAUDE           0.066886\n",
       "LEBOWSKI        0.048246\n",
       "BRANDT          0.044956\n",
       "DONNY           0.044956\n",
       "THE STRANGER    0.019737\n",
       "TREEHORN        0.012061\n",
       "DIETER          0.010965\n",
       "DA FINO         0.009868\n",
       "CHIEF           0.007675\n",
       "QUINTANA        0.006579\n",
       "Name: character, dtype: float64"
      ]
     },
     "execution_count": 47,
     "metadata": {},
     "output_type": "execute_result"
    }
   ],
   "source": [
    "data['character'].value_counts()/len(data)"
   ]
  },
  {
   "cell_type": "markdown",
   "metadata": {},
   "source": [
    "> You's be better off just always predicting 'DUDE'"
   ]
  },
  {
   "cell_type": "markdown",
   "metadata": {},
   "source": [
    "### Dude / UnDude"
   ]
  },
  {
   "cell_type": "code",
   "execution_count": 48,
   "metadata": {},
   "outputs": [
    {
     "name": "stdout",
     "output_type": "stream",
     "text": [
      "0.6326086956521738\n",
      "[[ 85 120]\n",
      " [ 49 206]]\n"
     ]
    }
   ],
   "source": [
    "model = SVC(gamma='scale')\n",
    "accuracies = []\n",
    "single_confmat = None\n",
    "\n",
    "splits = StratifiedShuffleSplit(n_splits=5)\n",
    "for train_idx, test_idx in splits.split(X, Y):\n",
    "\n",
    "    model.fit(X[train_idx], data['undude'][train_idx])\n",
    "    P = model.predict(X[test_idx])\n",
    "    T = data['undude'][test_idx]\n",
    "    accuracies.append(accuracy_score(T, P))\n",
    "\n",
    "    cm = confusion_matrix(T, P)\n",
    "    single_confmat = cm if single_confmat is None else cm+single_confmat\n",
    "\n",
    "print(np.mean(accuracies))\n",
    "print(single_confmat)"
   ]
  }
 ],
 "metadata": {
  "kernelspec": {
   "display_name": "Python [conda env:textenc2] *",
   "language": "python",
   "name": "conda-env-textenc2-py"
  },
  "language_info": {
   "codemirror_mode": {
    "name": "ipython",
    "version": 3
   },
   "file_extension": ".py",
   "mimetype": "text/x-python",
   "name": "python",
   "nbconvert_exporter": "python",
   "pygments_lexer": "ipython3",
   "version": "3.7.5"
  }
 },
 "nbformat": 4,
 "nbformat_minor": 4
}
