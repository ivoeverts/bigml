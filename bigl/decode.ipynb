{
 "cells": [
  {
   "cell_type": "code",
   "execution_count": 68,
   "metadata": {},
   "outputs": [],
   "source": [
    "import requests, zlib, io\n",
    "import numpy as np\n",
    "import pandas as pd\n",
    "import multiprocessing\n",
    "from urllib.parse import quote\n",
    "\n",
    "from sklearn.preprocessing import OneHotEncoder\n",
    "from sklearn.model_selection import StratifiedShuffleSplit\n",
    "from sklearn.neural_network import MLPClassifier\n",
    "from sklearn.svm import SVC\n",
    "from sklearn.ensemble import RandomForestClassifier\n",
    "from sklearn.metrics import accuracy_score, confusion_matrix\n",
    "from sklearn.multiclass import OneVsRestClassifier\n",
    "from sklearn.preprocessing import StandardScaler\n",
    "from sklearn.decomposition import PCA\n",
    "\n",
    "import matplotlib.pyplot as plt\n",
    "%matplotlib inline"
   ]
  },
  {
   "cell_type": "code",
   "execution_count": 98,
   "metadata": {},
   "outputs": [
    {
     "data": {
      "text/plain": [
       "'distilbert'"
      ]
     },
     "execution_count": 98,
     "metadata": {},
     "output_type": "execute_result"
    }
   ],
   "source": [
    "url = 'http://localhost:8080'\n",
    "data_type = ('sentences', 'paragraphs')[1]\n",
    "model = ('w2v_sm', 'w2v_md', 'w2v_lg', 'bert', 'roberta', 'distilbert', 'xlnet')[-2]\n",
    "model"
   ]
  },
  {
   "cell_type": "markdown",
   "metadata": {},
   "source": [
    "### Create dataset"
   ]
  },
  {
   "cell_type": "code",
   "execution_count": 96,
   "metadata": {},
   "outputs": [],
   "source": [
    "def uncompress_numpy_array(bytestring):\n",
    "    return np.load(io.BytesIO(zlib.decompress(bytestring)))\n",
    "\n",
    "def encode(idx_text_tuple):\n",
    "    idx, text = idx_text_tuple\n",
    "    api_result = requests.get(f'{url}/{quote(text)}/{model}')\n",
    "    return {'index': idx, 'feats': uncompress_numpy_array(api_result.content)}"
   ]
  },
  {
   "cell_type": "code",
   "execution_count": 100,
   "metadata": {},
   "outputs": [],
   "source": [
    "# read data and extract features\n",
    "data = (\n",
    "    pd.read_pickle(data_type)\n",
    "    .assign(undude = lambda df: df['character']!='DUDE')\n",
    "    .assign(num_words = lambda df: df['text'].apply(lambda s: len(s.split())))\n",
    ")\n",
    "\n",
    "# use multiprocessing for efficiency\n",
    "idx_text_tuples = [(idx, text) for idx, text in zip(data.index, data['text'])]\n",
    "# with multiprocessing.Pool(4) as enc_pool:\n",
    "#     encs = enc_pool.map(encode, idx_text_tuples)\n",
    "encs = [encode(idx_text_tuple) for idx_text_tuple in idx_text_tuples]\n",
    "\n",
    "# join data together\n",
    "data = data.join(pd.DataFrame(encs).set_index('index'))"
   ]
  },
  {
   "cell_type": "code",
   "execution_count": 101,
   "metadata": {},
   "outputs": [
    {
     "name": "stdout",
     "output_type": "stream",
     "text": [
      "(912, 5) (768,)\n"
     ]
    },
    {
     "data": {
      "text/html": [
       "<div>\n",
       "<style scoped>\n",
       "    .dataframe tbody tr th:only-of-type {\n",
       "        vertical-align: middle;\n",
       "    }\n",
       "\n",
       "    .dataframe tbody tr th {\n",
       "        vertical-align: top;\n",
       "    }\n",
       "\n",
       "    .dataframe thead th {\n",
       "        text-align: right;\n",
       "    }\n",
       "</style>\n",
       "<table border=\"1\" class=\"dataframe\">\n",
       "  <thead>\n",
       "    <tr style=\"text-align: right;\">\n",
       "      <th></th>\n",
       "      <th>character</th>\n",
       "      <th>text</th>\n",
       "      <th>undude</th>\n",
       "      <th>num_words</th>\n",
       "      <th>feats</th>\n",
       "    </tr>\n",
       "  </thead>\n",
       "  <tbody>\n",
       "    <tr>\n",
       "      <th>185</th>\n",
       "      <td>DUDE</td>\n",
       "      <td>Shit, I know that guy.  He's a nihilist.</td>\n",
       "      <td>False</td>\n",
       "      <td>8</td>\n",
       "      <td>[6.586654, 2.9753973, -1.1557989, 1.706759, -0...</td>\n",
       "    </tr>\n",
       "    <tr>\n",
       "      <th>23</th>\n",
       "      <td>DUDE</td>\n",
       "      <td>Uh-huh.</td>\n",
       "      <td>False</td>\n",
       "      <td>1</td>\n",
       "      <td>[1.2935125, -0.71120036, 1.5101641, -0.5138632...</td>\n",
       "    </tr>\n",
       "    <tr>\n",
       "      <th>273</th>\n",
       "      <td>DUDE</td>\n",
       "      <td>Look, man, did you</td>\n",
       "      <td>False</td>\n",
       "      <td>4</td>\n",
       "      <td>[2.0026844, 0.668452, -1.1683631, -0.06182596,...</td>\n",
       "    </tr>\n",
       "  </tbody>\n",
       "</table>\n",
       "</div>"
      ],
      "text/plain": [
       "    character                                      text  undude  num_words  \\\n",
       "185      DUDE  Shit, I know that guy.  He's a nihilist.   False          8   \n",
       "23       DUDE                                   Uh-huh.   False          1   \n",
       "273      DUDE                        Look, man, did you   False          4   \n",
       "\n",
       "                                                 feats  \n",
       "185  [6.586654, 2.9753973, -1.1557989, 1.706759, -0...  \n",
       "23   [1.2935125, -0.71120036, 1.5101641, -0.5138632...  \n",
       "273  [2.0026844, 0.668452, -1.1683631, -0.06182596,...  "
      ]
     },
     "execution_count": 101,
     "metadata": {},
     "output_type": "execute_result"
    }
   ],
   "source": [
    "print(data.shape, data['feats'].iloc[0].shape)\n",
    "data.sample(3)"
   ]
  },
  {
   "cell_type": "markdown",
   "metadata": {},
   "source": [
    "### Decode: classify names"
   ]
  },
  {
   "cell_type": "code",
   "execution_count": 102,
   "metadata": {},
   "outputs": [],
   "source": [
    "# concatenate features\n",
    "X = np.zeros((len(data), len(data['feats'].iloc[0])))\n",
    "for i in range(len(X)):\n",
    "    X[i,:] = data['feats'].iloc[i]\n",
    "    \n",
    "# use one-hot-enc as labels\n",
    "one_hot = OneHotEncoder().fit(data['character'].values.reshape(-1,+1))\n",
    "Y = one_hot.transform(data['character'].values.reshape(-1,+1)).todense()"
   ]
  },
  {
   "cell_type": "code",
   "execution_count": 103,
   "metadata": {},
   "outputs": [
    {
     "name": "stdout",
     "output_type": "stream",
     "text": [
      "0.4782608695652174\n",
      "0.42391304347826086\n",
      "0.4673913043478261\n",
      "0.43478260869565216\n",
      "0.4891304347826087\n"
     ]
    }
   ],
   "source": [
    "model = MLPClassifier(hidden_layer_sizes=(50, 30), max_iter=1000)\n",
    "pp = StandardScaler()\n",
    "accuracies = []\n",
    "confmat = None\n",
    "\n",
    "splits = StratifiedShuffleSplit(n_splits=5)\n",
    "for train_idx, test_idx in splits.split(X, Y):\n",
    "    \n",
    "    X_train = pp.fit_transform(X[train_idx])\n",
    "    X_test = pp.fit_transform(X[test_idx])\n",
    "    \n",
    "    model.fit(X_train, Y[train_idx])\n",
    "    P = model.predict(X_test)\n",
    "    T = Y[test_idx]\n",
    "    accuracies.append(accuracy_score(T, P))\n",
    "    print(accuracies[-1])\n",
    "\n",
    "    cm = confusion_matrix(T.argmax(axis=1), P.argmax(axis=1))\n",
    "    confmat = cm if confmat is None else cm+confmat\n"
   ]
  },
  {
   "cell_type": "code",
   "execution_count": 104,
   "metadata": {},
   "outputs": [
    {
     "data": {
      "image/png": "[encoded data removed]",
      "text/plain": [
       "<Figure size 432x432 with 1 Axes>"
      ]
     },
     "metadata": {
      "needs_background": "light"
     },
     "output_type": "display_data"
    }
   ],
   "source": [
    "plt.rcParams['figure.figsize'] = 6,6\n",
    "plt.imshow(confmat);\n",
    "plt.yticks(range(len(one_hot.categories_[0])), one_hot.categories_[0]);"
   ]
  },
  {
   "cell_type": "code",
   "execution_count": 105,
   "metadata": {},
   "outputs": [
    {
     "data": {
      "text/plain": [
       "DUDE            0.445175\n",
       "WALTER          0.282895\n",
       "MAUDE           0.066886\n",
       "LEBOWSKI        0.048246\n",
       "BRANDT          0.044956\n",
       "DONNY           0.044956\n",
       "THE STRANGER    0.019737\n",
       "TREEHORN        0.012061\n",
       "DIETER          0.010965\n",
       "DA FINO         0.009868\n",
       "CHIEF           0.007675\n",
       "QUINTANA        0.006579\n",
       "Name: character, dtype: float64"
      ]
     },
     "execution_count": 105,
     "metadata": {},
     "output_type": "execute_result"
    }
   ],
   "source": [
    "data['character'].value_counts()/len(data)"
   ]
  },
  {
   "cell_type": "markdown",
   "metadata": {},
   "source": [
    "> You's be better off just always predicting 'DUDE'"
   ]
  },
  {
   "cell_type": "markdown",
   "metadata": {},
   "source": [
    "### Dude / UnDude"
   ]
  },
  {
   "cell_type": "code",
   "execution_count": 118,
   "metadata": {},
   "outputs": [
    {
     "name": "stderr",
     "output_type": "stream",
     "text": [
      "/Users/ivoeverts/miniconda3/envs/textenc2/lib/python3.7/site-packages/sklearn/neural_network/multilayer_perceptron.py:566: ConvergenceWarning: Stochastic Optimizer: Maximum iterations (200) reached and the optimization hasn't converged yet.\n",
      "  % self.max_iter, ConvergenceWarning)\n"
     ]
    },
    {
     "name": "stdout",
     "output_type": "stream",
     "text": [
      "0.7076086956521739 0.044139001096189026\n",
      "[[283 127]\n",
      " [142 368]]\n"
     ]
    }
   ],
   "source": [
    "model = SVC(gamma='scale')\n",
    "model = MLPClassifier()\n",
    "pp = StandardScaler() # None # PCA(n_components=0.95)\n",
    "accuracies = []\n",
    "single_confmat = None\n",
    "\n",
    "splits = StratifiedShuffleSplit(n_splits=10)\n",
    "for train_idx, test_idx in splits.split(X, Y):\n",
    "    \n",
    "    if pp:\n",
    "        X_train = pp.fit_transform(X[train_idx])\n",
    "        X_test = pp.transform(X[test_idx])\n",
    "    else:\n",
    "        X_train = X[train_idx]\n",
    "        X_test = X[test_idx]\n",
    "    \n",
    "    model.fit(X_train, data['undude'][train_idx])\n",
    "    P = model.predict(X_test)\n",
    "    T = data['undude'][test_idx]\n",
    "    accuracies.append(accuracy_score(T, P))\n",
    "\n",
    "    cm = confusion_matrix(T, P)\n",
    "    single_confmat = cm if single_confmat is None else cm+single_confmat\n",
    "\n",
    "print(np.mean(accuracies), np.std(accuracies))\n",
    "print(single_confmat)"
   ]
  },
  {
   "cell_type": "code",
   "execution_count": null,
   "metadata": {},
   "outputs": [],
   "source": []
  }
 ],
 "metadata": {
  "kernelspec": {
   "display_name": "Python [conda env:textenc2] *",
   "language": "python",
   "name": "conda-env-textenc2-py"
  },
  "language_info": {
   "codemirror_mode": {
    "name": "ipython",
    "version": 3
   },
   "file_extension": ".py",
   "mimetype": "text/x-python",
   "name": "python",
   "nbconvert_exporter": "python",
   "pygments_lexer": "ipython3",
   "version": "3.7.5"
  }
 },
 "nbformat": 4,
 "nbformat_minor": 4
}
