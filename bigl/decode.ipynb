{
 "cells": [
  {
   "cell_type": "code",
   "execution_count": 140,
   "metadata": {},
   "outputs": [],
   "source": [
    "import requests, zlib, io\n",
    "import numpy as np\n",
    "import pandas as pd\n",
    "import multiprocessing\n",
    "from urllib.parse import quote\n",
    "\n",
    "from sklearn.preprocessing import OneHotEncoder\n",
    "from sklearn.model_selection import StratifiedShuffleSplit, StratifiedKFold\n",
    "from sklearn.neural_network import MLPClassifier\n",
    "from sklearn.linear_model import LogisticRegression, LogisticRegressionCV\n",
    "from sklearn.svm import SVC\n",
    "from sklearn.ensemble import RandomForestClassifier\n",
    "from sklearn.metrics import accuracy_score, confusion_matrix\n",
    "from sklearn.multiclass import OneVsRestClassifier\n",
    "from sklearn.preprocessing import StandardScaler\n",
    "from sklearn.decomposition import PCA\n",
    "\n",
    "import matplotlib.pyplot as plt\n",
    "%matplotlib inline"
   ]
  },
  {
   "cell_type": "code",
   "execution_count": 155,
   "metadata": {},
   "outputs": [
    {
     "data": {
      "text/plain": [
       "'bert'"
      ]
     },
     "execution_count": 155,
     "metadata": {},
     "output_type": "execute_result"
    }
   ],
   "source": [
    "url = ('http://34.90.27.133:5000', 'http://localhost:8080')[1]\n",
    "data_type = ('sentences', 'paragraphs')[1]\n",
    "encoders = ('w2v_lg', 'bert', 'roberta', 'distilbert', 'xlnet')\n",
    "encoder = encoders[1]\n",
    "encoder"
   ]
  },
  {
   "cell_type": "markdown",
   "metadata": {},
   "source": [
    "### Create dataset"
   ]
  },
  {
   "cell_type": "code",
   "execution_count": 168,
   "metadata": {},
   "outputs": [],
   "source": [
    "def uncompress_numpy_array(bytestring):\n",
    "    return np.load(io.BytesIO(zlib.decompress(bytestring)))\n",
    "\n",
    "def encode(idx_text_tuple, encoder):\n",
    "    idx, text = idx_text_tuple\n",
    "    api_result = requests.get(f'{url}/{quote(text)}/{encoder}')\n",
    "    return {'index': idx, 'feats': uncompress_numpy_array(api_result.content)}"
   ]
  },
  {
   "cell_type": "code",
   "execution_count": 173,
   "metadata": {},
   "outputs": [],
   "source": [
    "def get_df(encoder):\n",
    "\n",
    "    # read data and extract features\n",
    "    data = (\n",
    "        pd.read_pickle(data_type)\n",
    "        .assign(undude = lambda df: df['character']!='DUDE')\n",
    "        .assign(num_words = lambda df: df['text'].apply(lambda s: len(s.split())))\n",
    "        [lambda df: df['num_words']>=3]\n",
    "    )\n",
    "    \n",
    "    text_count = data['character'].value_counts()\n",
    "    data = data[data['character'].isin(text_count[text_count>=10].index)].reset_index()\n",
    "\n",
    "    idx_text_tuples = [(idx, text) for idx, text in zip(data.index, data['text'])]\n",
    "    encs = [encode(idx_text_tuple, encoder) for idx_text_tuple in idx_text_tuples]\n",
    "\n",
    "    # join data together\n",
    "    return data.join(pd.DataFrame(encs).set_index('index'))"
   ]
  },
  {
   "cell_type": "code",
   "execution_count": 154,
   "metadata": {},
   "outputs": [
    {
     "name": "stdout",
     "output_type": "stream",
     "text": [
      "CPU times: user 2.75 s, sys: 386 ms, total: 3.14 s\n",
      "Wall time: 50.4 s\n"
     ]
    }
   ],
   "source": [
    "%%time\n",
    "data = get_df(encoder)"
   ]
  },
  {
   "cell_type": "code",
   "execution_count": 200,
   "metadata": {},
   "outputs": [
    {
     "name": "stdout",
     "output_type": "stream",
     "text": [
      "(723, 6) (768,)\n"
     ]
    },
    {
     "data": {
      "text/html": [
       "<div>\n",
       "<style scoped>\n",
       "    .dataframe tbody tr th:only-of-type {\n",
       "        vertical-align: middle;\n",
       "    }\n",
       "\n",
       "    .dataframe tbody tr th {\n",
       "        vertical-align: top;\n",
       "    }\n",
       "\n",
       "    .dataframe thead th {\n",
       "        text-align: right;\n",
       "    }\n",
       "</style>\n",
       "<table border=\"1\" class=\"dataframe\">\n",
       "  <thead>\n",
       "    <tr style=\"text-align: right;\">\n",
       "      <th></th>\n",
       "      <th>index</th>\n",
       "      <th>character</th>\n",
       "      <th>text</th>\n",
       "      <th>undude</th>\n",
       "      <th>num_words</th>\n",
       "      <th>feats</th>\n",
       "    </tr>\n",
       "  </thead>\n",
       "  <tbody>\n",
       "    <tr>\n",
       "      <th>4</th>\n",
       "      <td>4</td>\n",
       "      <td>DUDE</td>\n",
       "      <td>Bunny?  Look, moron.</td>\n",
       "      <td>False</td>\n",
       "      <td>3</td>\n",
       "      <td>[-1.7667985, -9.282662, -7.094531, -1.578983, ...</td>\n",
       "    </tr>\n",
       "    <tr>\n",
       "      <th>200</th>\n",
       "      <td>274</td>\n",
       "      <td>DUDE</td>\n",
       "      <td>Just ask him if heask him about the car, man!</td>\n",
       "      <td>False</td>\n",
       "      <td>10</td>\n",
       "      <td>[5.462593, -13.772672, -0.3868996, 1.7199807, ...</td>\n",
       "    </tr>\n",
       "    <tr>\n",
       "      <th>90</th>\n",
       "      <td>127</td>\n",
       "      <td>DUDE</td>\n",
       "      <td>Oh shit.  Walter.</td>\n",
       "      <td>False</td>\n",
       "      <td>3</td>\n",
       "      <td>[23.029251, -11.307284, -11.23264, -10.253191,...</td>\n",
       "    </tr>\n",
       "    <tr>\n",
       "      <th>152</th>\n",
       "      <td>207</td>\n",
       "      <td>DUDE</td>\n",
       "      <td>Whose toe was it, Walter?</td>\n",
       "      <td>False</td>\n",
       "      <td>5</td>\n",
       "      <td>[15.6297655, -21.048786, -6.171573, -6.889731,...</td>\n",
       "    </tr>\n",
       "    <tr>\n",
       "      <th>327</th>\n",
       "      <td>428</td>\n",
       "      <td>WALTER</td>\n",
       "      <td>I'm saying, Cynthia's Pomeranian. I'm looking ...</td>\n",
       "      <td>True</td>\n",
       "      <td>16</td>\n",
       "      <td>[-5.3543286, -30.079294, -10.122738, 15.164869...</td>\n",
       "    </tr>\n",
       "    <tr>\n",
       "      <th>682</th>\n",
       "      <td>837</td>\n",
       "      <td>MAUDE</td>\n",
       "      <td>Tell me a little about yourself, Jeffrey.</td>\n",
       "      <td>True</td>\n",
       "      <td>7</td>\n",
       "      <td>[6.463072, -20.637653, -31.18298, 4.3059015, -...</td>\n",
       "    </tr>\n",
       "    <tr>\n",
       "      <th>158</th>\n",
       "      <td>214</td>\n",
       "      <td>DUDE</td>\n",
       "      <td>All right, I'm leaving.  I'm sorry ma'am.</td>\n",
       "      <td>False</td>\n",
       "      <td>7</td>\n",
       "      <td>[2.0436, -20.14672, -17.89114, 2.1898715, -31....</td>\n",
       "    </tr>\n",
       "    <tr>\n",
       "      <th>222</th>\n",
       "      <td>297</td>\n",
       "      <td>DUDE</td>\n",
       "      <td>I want a fucking lawyer, man.  I want Bill Kun...</td>\n",
       "      <td>False</td>\n",
       "      <td>10</td>\n",
       "      <td>[-0.6696675, -19.73741, -19.090801, 20.17907, ...</td>\n",
       "    </tr>\n",
       "    <tr>\n",
       "      <th>320</th>\n",
       "      <td>419</td>\n",
       "      <td>WALTER</td>\n",
       "      <td>Jeff Lebowski.  Come on.  This other Jeffrey L...</td>\n",
       "      <td>True</td>\n",
       "      <td>61</td>\n",
       "      <td>[-61.783623, -67.02649, 31.209064, -13.974029,...</td>\n",
       "    </tr>\n",
       "    <tr>\n",
       "      <th>114</th>\n",
       "      <td>160</td>\n",
       "      <td>DUDE</td>\n",
       "      <td>You don't know, Walter?  You seem to know the ...</td>\n",
       "      <td>False</td>\n",
       "      <td>13</td>\n",
       "      <td>[50.994102, -35.864708, -29.091608, -15.506131...</td>\n",
       "    </tr>\n",
       "  </tbody>\n",
       "</table>\n",
       "</div>"
      ],
      "text/plain": [
       "     index character                                               text  \\\n",
       "4        4      DUDE                               Bunny?  Look, moron.   \n",
       "200    274      DUDE      Just ask him if heask him about the car, man!   \n",
       "90     127      DUDE                                  Oh shit.  Walter.   \n",
       "152    207      DUDE                          Whose toe was it, Walter?   \n",
       "327    428    WALTER  I'm saying, Cynthia's Pomeranian. I'm looking ...   \n",
       "682    837     MAUDE          Tell me a little about yourself, Jeffrey.   \n",
       "158    214      DUDE          All right, I'm leaving.  I'm sorry ma'am.   \n",
       "222    297      DUDE  I want a fucking lawyer, man.  I want Bill Kun...   \n",
       "320    419    WALTER  Jeff Lebowski.  Come on.  This other Jeffrey L...   \n",
       "114    160      DUDE  You don't know, Walter?  You seem to know the ...   \n",
       "\n",
       "     undude  num_words                                              feats  \n",
       "4     False          3  [-1.7667985, -9.282662, -7.094531, -1.578983, ...  \n",
       "200   False         10  [5.462593, -13.772672, -0.3868996, 1.7199807, ...  \n",
       "90    False          3  [23.029251, -11.307284, -11.23264, -10.253191,...  \n",
       "152   False          5  [15.6297655, -21.048786, -6.171573, -6.889731,...  \n",
       "327    True         16  [-5.3543286, -30.079294, -10.122738, 15.164869...  \n",
       "682    True          7  [6.463072, -20.637653, -31.18298, 4.3059015, -...  \n",
       "158   False          7  [2.0436, -20.14672, -17.89114, 2.1898715, -31....  \n",
       "222   False         10  [-0.6696675, -19.73741, -19.090801, 20.17907, ...  \n",
       "320    True         61  [-61.783623, -67.02649, 31.209064, -13.974029,...  \n",
       "114   False         13  [50.994102, -35.864708, -29.091608, -15.506131...  "
      ]
     },
     "execution_count": 200,
     "metadata": {},
     "output_type": "execute_result"
    }
   ],
   "source": [
    "print(data.shape, data['feats'].iloc[0].shape)\n",
    "data.sample(10)"
   ]
  },
  {
   "cell_type": "code",
   "execution_count": 132,
   "metadata": {},
   "outputs": [
    {
     "data": {
      "text/html": [
       "<div>\n",
       "<style scoped>\n",
       "    .dataframe tbody tr th:only-of-type {\n",
       "        vertical-align: middle;\n",
       "    }\n",
       "\n",
       "    .dataframe tbody tr th {\n",
       "        vertical-align: top;\n",
       "    }\n",
       "\n",
       "    .dataframe thead th {\n",
       "        text-align: right;\n",
       "    }\n",
       "</style>\n",
       "<table border=\"1\" class=\"dataframe\">\n",
       "  <thead>\n",
       "    <tr style=\"text-align: right;\">\n",
       "      <th></th>\n",
       "      <th>DUDE</th>\n",
       "      <th>WALTER</th>\n",
       "      <th>MAUDE</th>\n",
       "      <th>LEBOWSKI</th>\n",
       "      <th>BRANDT</th>\n",
       "      <th>DONNY</th>\n",
       "      <th>THE STRANGER</th>\n",
       "      <th>TREEHORN</th>\n",
       "    </tr>\n",
       "  </thead>\n",
       "  <tbody>\n",
       "    <tr>\n",
       "      <th>character_counts</th>\n",
       "      <td>308</td>\n",
       "      <td>226</td>\n",
       "      <td>49</td>\n",
       "      <td>41</td>\n",
       "      <td>36</td>\n",
       "      <td>35</td>\n",
       "      <td>17</td>\n",
       "      <td>11</td>\n",
       "    </tr>\n",
       "  </tbody>\n",
       "</table>\n",
       "</div>"
      ],
      "text/plain": [
       "                  DUDE  WALTER  MAUDE  LEBOWSKI  BRANDT  DONNY  THE STRANGER  \\\n",
       "character_counts   308     226     49        41      36     35            17   \n",
       "\n",
       "                  TREEHORN  \n",
       "character_counts        11  "
      ]
     },
     "execution_count": 132,
     "metadata": {},
     "output_type": "execute_result"
    }
   ],
   "source": [
    "text_count = data['character'].value_counts()\n",
    "data = data[data['character'].isin(text_count[text_count>=10].index)].reset_index()\n",
    "data['character'].value_counts().to_frame(name='character_counts').T"
   ]
  },
  {
   "cell_type": "code",
   "execution_count": 177,
   "metadata": {},
   "outputs": [],
   "source": [
    "all_data = {encoder: get_df(encoder) for encoder in encoders}"
   ]
  },
  {
   "cell_type": "code",
   "execution_count": 157,
   "metadata": {},
   "outputs": [],
   "source": [
    "# # use one-hot-enc as labels\n",
    "# one_hot = OneHotEncoder().fit(data['character'].values.reshape(-1,+1))\n",
    "# Y = one_hot.transform(data['character'].values.reshape(-1,+1)).todense()"
   ]
  },
  {
   "cell_type": "markdown",
   "metadata": {},
   "source": [
    "### Dude / UnDude"
   ]
  },
  {
   "cell_type": "code",
   "execution_count": 184,
   "metadata": {},
   "outputs": [
    {
     "data": {
      "text/html": [
       "<div>\n",
       "<style scoped>\n",
       "    .dataframe tbody tr th:only-of-type {\n",
       "        vertical-align: middle;\n",
       "    }\n",
       "\n",
       "    .dataframe tbody tr th {\n",
       "        vertical-align: top;\n",
       "    }\n",
       "\n",
       "    .dataframe thead th {\n",
       "        text-align: right;\n",
       "    }\n",
       "</style>\n",
       "<table border=\"1\" class=\"dataframe\">\n",
       "  <thead>\n",
       "    <tr style=\"text-align: right;\">\n",
       "      <th></th>\n",
       "      <th>index</th>\n",
       "      <th>character</th>\n",
       "      <th>text</th>\n",
       "      <th>undude</th>\n",
       "      <th>num_words</th>\n",
       "      <th>feats</th>\n",
       "    </tr>\n",
       "  </thead>\n",
       "  <tbody>\n",
       "    <tr>\n",
       "      <th>91</th>\n",
       "      <td>128</td>\n",
       "      <td>DUDE</td>\n",
       "      <td>They hung up, Walter!  You fucked it up!  You ...</td>\n",
       "      <td>False</td>\n",
       "      <td>18</td>\n",
       "      <td>[0.42279857, -23.982761, -45.342335, -40.44201...</td>\n",
       "    </tr>\n",
       "    <tr>\n",
       "      <th>92</th>\n",
       "      <td>129</td>\n",
       "      <td>DUDE</td>\n",
       "      <td>We're screwed now!  We don't get shit and they...</td>\n",
       "      <td>False</td>\n",
       "      <td>15</td>\n",
       "      <td>[12.343807, -27.609848, 13.977277, 21.82332, -...</td>\n",
       "    </tr>\n",
       "  </tbody>\n",
       "</table>\n",
       "</div>"
      ],
      "text/plain": [
       "    index character                                               text  \\\n",
       "91    128      DUDE  They hung up, Walter!  You fucked it up!  You ...   \n",
       "92    129      DUDE  We're screwed now!  We don't get shit and they...   \n",
       "\n",
       "    undude  num_words                                              feats  \n",
       "91   False         18  [0.42279857, -23.982761, -45.342335, -40.44201...  \n",
       "92   False         15  [12.343807, -27.609848, 13.977277, 21.82332, -...  "
      ]
     },
     "execution_count": 184,
     "metadata": {},
     "output_type": "execute_result"
    }
   ],
   "source": [
    "stress_talk_idx = data['text'].str.contains('Her life was in our hands') | data['text'].str.contains('We\\'re screwed now')\n",
    "data.loc[stress_talk_idx]"
   ]
  },
  {
   "cell_type": "code",
   "execution_count": 178,
   "metadata": {},
   "outputs": [
    {
     "name": "stdout",
     "output_type": "stream",
     "text": [
      "{'encoder': 'w2v_lg', 'accuracy': 0.5989251720367869, 'accuracy_std': 0.04502431958155923, 'unDude_1': True, 'unDude_2': False}\n",
      "{'encoder': 'bert', 'accuracy': 0.6754346474585718, 'accuracy_std': 0.08200136556644616, 'unDude_1': False, 'unDude_2': True}\n",
      "{'encoder': 'roberta', 'accuracy': 0.6435837245696401, 'accuracy_std': 0.05769195740855355, 'unDude_1': True, 'unDude_2': True}\n",
      "{'encoder': 'distilbert', 'accuracy': 0.6682222329410251, 'accuracy_std': 0.04475200700834805, 'unDude_1': True, 'unDude_2': True}\n",
      "{'encoder': 'xlnet', 'accuracy': 0.5948324651102965, 'accuracy_std': 0.04628671311100907, 'unDude_1': False, 'unDude_2': False}\n"
     ]
    },
    {
     "data": {
      "text/html": [
       "<div>\n",
       "<style scoped>\n",
       "    .dataframe tbody tr th:only-of-type {\n",
       "        vertical-align: middle;\n",
       "    }\n",
       "\n",
       "    .dataframe tbody tr th {\n",
       "        vertical-align: top;\n",
       "    }\n",
       "\n",
       "    .dataframe thead th {\n",
       "        text-align: right;\n",
       "    }\n",
       "</style>\n",
       "<table border=\"1\" class=\"dataframe\">\n",
       "  <thead>\n",
       "    <tr style=\"text-align: right;\">\n",
       "      <th></th>\n",
       "      <th>encoder</th>\n",
       "      <th>accuracy</th>\n",
       "      <th>accuracy_std</th>\n",
       "      <th>unDude_1</th>\n",
       "      <th>unDude_2</th>\n",
       "    </tr>\n",
       "  </thead>\n",
       "  <tbody>\n",
       "    <tr>\n",
       "      <th>0</th>\n",
       "      <td>w2v_lg</td>\n",
       "      <td>0.598925</td>\n",
       "      <td>0.045024</td>\n",
       "      <td>True</td>\n",
       "      <td>False</td>\n",
       "    </tr>\n",
       "    <tr>\n",
       "      <th>1</th>\n",
       "      <td>bert</td>\n",
       "      <td>0.675435</td>\n",
       "      <td>0.082001</td>\n",
       "      <td>False</td>\n",
       "      <td>True</td>\n",
       "    </tr>\n",
       "    <tr>\n",
       "      <th>2</th>\n",
       "      <td>roberta</td>\n",
       "      <td>0.643584</td>\n",
       "      <td>0.057692</td>\n",
       "      <td>True</td>\n",
       "      <td>True</td>\n",
       "    </tr>\n",
       "    <tr>\n",
       "      <th>3</th>\n",
       "      <td>distilbert</td>\n",
       "      <td>0.668222</td>\n",
       "      <td>0.044752</td>\n",
       "      <td>True</td>\n",
       "      <td>True</td>\n",
       "    </tr>\n",
       "    <tr>\n",
       "      <th>4</th>\n",
       "      <td>xlnet</td>\n",
       "      <td>0.594832</td>\n",
       "      <td>0.046287</td>\n",
       "      <td>False</td>\n",
       "      <td>False</td>\n",
       "    </tr>\n",
       "  </tbody>\n",
       "</table>\n",
       "</div>"
      ],
      "text/plain": [
       "      encoder  accuracy  accuracy_std  unDude_1  unDude_2\n",
       "0      w2v_lg  0.598925      0.045024      True     False\n",
       "1        bert  0.675435      0.082001     False      True\n",
       "2     roberta  0.643584      0.057692      True      True\n",
       "3  distilbert  0.668222      0.044752      True      True\n",
       "4       xlnet  0.594832      0.046287     False     False"
      ]
     },
     "execution_count": 178,
     "metadata": {},
     "output_type": "execute_result"
    }
   ],
   "source": [
    "model = SVC(gamma='scale')\n",
    "model = MLPClassifier()\n",
    "model = LogisticRegressionCV(cv=3, max_iter=1000, solver='lbfgs')\n",
    "pp = StandardScaler() # PCA(n_components=0.95)\n",
    "\n",
    "stress_talk_idx = (\n",
    "    data['text'].str.contains('Her life was in our hands') | \n",
    "    data['text'].str.contains('We\\'re screwed now')\n",
    ")\n",
    "\n",
    "res = []\n",
    "splits = StratifiedKFold(n_splits=10)\n",
    "\n",
    "for encoder, data in all_data.items():\n",
    "\n",
    "    # concatenate features\n",
    "    X = np.zeros((len(data), len(data['feats'].iloc[0])))\n",
    "    for i in range(len(X)):\n",
    "        X[i,:] = data['feats'].iloc[i]\n",
    "\n",
    "    accuracies = []\n",
    "    for train_idx, test_idx in splits.split(X, data['undude']):\n",
    "\n",
    "        if pp:\n",
    "            X_train = pp.fit_transform(X[train_idx])\n",
    "            X_test = pp.transform(X[test_idx])\n",
    "        else:\n",
    "            X_train = X[train_idx]\n",
    "            X_test = X[test_idx]\n",
    "\n",
    "        model.fit(X_train, data.loc[train_idx, 'undude'])\n",
    "        P = model.predict(X_test)\n",
    "        T = data.loc[test_idx, 'undude']\n",
    "        accuracies.append(accuracy_score(T, P))\n",
    "\n",
    "#         cm = confusion_matrix(T, P)\n",
    "#         single_confmat = cm if single_confmat is None else cm+single_confmat\n",
    "\n",
    "    undudeness = (\n",
    "        model\n",
    "        .fit(pp.fit_transform(X[~stress_talk_idx]), data.loc[~stress_talk_idx, 'undude'])\n",
    "        .predict(pp.transform(X[stress_talk_idx]))\n",
    "    )\n",
    "    \n",
    "    res.append({\n",
    "        'encoder': encoder,\n",
    "        'accuracy': np.mean(accuracies),\n",
    "        'accuracy_std': np.std(accuracies),\n",
    "        'unDude_1': undudeness[0],\n",
    "        'unDude_2': undudeness[1]\n",
    "    })\n",
    "    print(res[-1])\n",
    "\n",
    "res = pd.DataFrame(res)\n",
    "res"
   ]
  },
  {
   "cell_type": "code",
   "execution_count": 201,
   "metadata": {},
   "outputs": [],
   "source": [
    "import matplotlib.pyplot as plt\n",
    "%matplotlib inline"
   ]
  },
  {
   "cell_type": "code",
   "execution_count": 209,
   "metadata": {},
   "outputs": [
    {
     "data": {
      "text/plain": [
       "<matplotlib.axes._subplots.AxesSubplot at 0x1a282265d0>"
      ]
     },
     "execution_count": 209,
     "metadata": {},
     "output_type": "execute_result"
    },
    {
     "data": {
      "image/png": "[encoded data removed]",
      "text/plain": [
       "<Figure size 1080x288 with 1 Axes>"
      ]
     },
     "metadata": {
      "needs_background": "light"
     },
     "output_type": "display_data"
    }
   ],
   "source": [
    "plt.rcParams['figure.figsize'] = 15, 4\n",
    "res.plot.bar(x='encoder', y='accuracy', yerr='accuracy_std', rot=0)"
   ]
  },
  {
   "cell_type": "code",
   "execution_count": 210,
   "metadata": {},
   "outputs": [
    {
     "data": {
      "text/html": [
       "<div>\n",
       "<style scoped>\n",
       "    .dataframe tbody tr th:only-of-type {\n",
       "        vertical-align: middle;\n",
       "    }\n",
       "\n",
       "    .dataframe tbody tr th {\n",
       "        vertical-align: top;\n",
       "    }\n",
       "\n",
       "    .dataframe thead th {\n",
       "        text-align: right;\n",
       "    }\n",
       "</style>\n",
       "<table border=\"1\" class=\"dataframe\">\n",
       "  <thead>\n",
       "    <tr style=\"text-align: right;\">\n",
       "      <th></th>\n",
       "      <th>encoder</th>\n",
       "      <th>unDude_1</th>\n",
       "      <th>unDude_2</th>\n",
       "    </tr>\n",
       "  </thead>\n",
       "  <tbody>\n",
       "    <tr>\n",
       "      <th>0</th>\n",
       "      <td>w2v_lg</td>\n",
       "      <td>True</td>\n",
       "      <td>False</td>\n",
       "    </tr>\n",
       "    <tr>\n",
       "      <th>1</th>\n",
       "      <td>bert</td>\n",
       "      <td>False</td>\n",
       "      <td>True</td>\n",
       "    </tr>\n",
       "    <tr>\n",
       "      <th>2</th>\n",
       "      <td>roberta</td>\n",
       "      <td>True</td>\n",
       "      <td>True</td>\n",
       "    </tr>\n",
       "    <tr>\n",
       "      <th>3</th>\n",
       "      <td>distilbert</td>\n",
       "      <td>True</td>\n",
       "      <td>True</td>\n",
       "    </tr>\n",
       "    <tr>\n",
       "      <th>4</th>\n",
       "      <td>xlnet</td>\n",
       "      <td>False</td>\n",
       "      <td>False</td>\n",
       "    </tr>\n",
       "  </tbody>\n",
       "</table>\n",
       "</div>"
      ],
      "text/plain": [
       "      encoder  unDude_1  unDude_2\n",
       "0      w2v_lg      True     False\n",
       "1        bert     False      True\n",
       "2     roberta      True      True\n",
       "3  distilbert      True      True\n",
       "4       xlnet     False     False"
      ]
     },
     "execution_count": 210,
     "metadata": {},
     "output_type": "execute_result"
    }
   ],
   "source": [
    "res[['encoder', 'unDude_1', 'unDude_2']]"
   ]
  }
 ],
 "metadata": {
  "kernelspec": {
   "display_name": "Python [conda env:textenc2] *",
   "language": "python",
   "name": "conda-env-textenc2-py"
  },
  "language_info": {
   "codemirror_mode": {
    "name": "ipython",
    "version": 3
   },
   "file_extension": ".py",
   "mimetype": "text/x-python",
   "name": "python",
   "nbconvert_exporter": "python",
   "pygments_lexer": "ipython3",
   "version": "3.7.5"
  }
 },
 "nbformat": 4,
 "nbformat_minor": 4
}
